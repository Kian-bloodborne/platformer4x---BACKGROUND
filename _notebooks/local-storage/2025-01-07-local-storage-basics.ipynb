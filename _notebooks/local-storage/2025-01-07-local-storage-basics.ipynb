{
 "cells": [
  {
   "cell_type": "code",
   "execution_count": null,
   "metadata": {
    "vscode": {
     "languageId": "yaml"
    }
   },
   "outputs": [],
   "source": [
    "---\n",
    "layout: post\n",
    "title: Local Storage Basics\n",
    "author: Lucas Masterson\n",
    "description: Understanding the concepts behind SASS\n",
    "permalink: /local_storage/basics\n",
    "toc: true\n",
    "---"
   ]
  },
  {
   "cell_type": "markdown",
   "metadata": {},
   "source": [
    "ADD THE MENU SOON"
   ]
  },
  {
   "cell_type": "markdown",
   "metadata": {},
   "source": [
    "# What is Local Storage?\n",
    "\n",
    "Simply put, it's storage... that's local! Thank you, thank you. Lesson over.\n",
    "\n",
    "In all seriousness, it's storage that is hosted locally on the host computer that remains when a browsing session ends. So, for example, maybe I decided to turn off a specific setting on the game site. The idea is that this configuration will persist even after I close the browser session and reopen it.\n",
    "\n",
    "Ok, but WHAT and HOW? Let's get into it.\n",
    "\n",
    "![banana...](https://media1.tenor.com/m/nZjB4sgIeHoAAAAd/d2-destiny-2.gif)"
   ]
  }
 ],
 "metadata": {
  "language_info": {
   "name": "python"
  }
 },
 "nbformat": 4,
 "nbformat_minor": 2
}
