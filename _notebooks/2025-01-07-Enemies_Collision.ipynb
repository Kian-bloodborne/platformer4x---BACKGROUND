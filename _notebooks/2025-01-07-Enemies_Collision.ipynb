{
 "cells": [
  {
   "cell_type": "raw",
   "metadata": {
    "vscode": {
     "languageId": "raw"
    }
   },
   "source": [
    "---\n",
    "layout: post\n",
    "title: Enemies & Collision in the Platformer Game\n",
    "description: A lesson on enemies and collision in the platformer game\n",
    "permalink: /enemies_collision/\n",
    "toc: true\n",
    "comments: true\n",
    "authors: Cason Pollak, Veera Kalakota, Ethan Wong\n",
    "---"
   ]
  },
  {
   "cell_type": "markdown",
   "metadata": {},
   "source": [
    "\n",
    "## <span style=\"color: pink; text-shadow: 2px 2px 5px pink;\">Enemies & Collision</span>\n",
    " Taught by Veera, Cason, and Ethan"
   ]
  }
 ],
 "metadata": {
  "language_info": {
   "name": "python"
  }
 },
 "nbformat": 4,
 "nbformat_minor": 2
}
